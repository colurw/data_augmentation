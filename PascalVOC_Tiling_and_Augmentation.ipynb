{
  "nbformat": 4,
  "nbformat_minor": 0,
  "metadata": {
    "colab": {
      "name": "PascalVOC Tiling and Augmentation.ipynb",
      "provenance": [],
      "mount_file_id": "14jYQF2sNhfOOaufbXqN-4MayBz3WYCZl",
      "authorship_tag": "ABX9TyNKknJ/WX6knBj6sFFaKx9r",
      "include_colab_link": true
    },
    "kernelspec": {
      "name": "python3",
      "display_name": "Python 3"
    }
  },
  "cells": [
    {
      "cell_type": "markdown",
      "metadata": {
        "id": "view-in-github",
        "colab_type": "text"
      },
      "source": [
        "<a href=\"https://colab.research.google.com/github/colurw/data_augmentation/blob/master/PascalVOC_Tiling_and_Augmentation.ipynb\" target=\"_parent\"><img src=\"https://colab.research.google.com/assets/colab-badge.svg\" alt=\"Open In Colab\"/></a>"
      ]
    },
    {
      "cell_type": "markdown",
      "metadata": {
        "id": "kgdJHL1mpvEv",
        "colab_type": "text"
      },
      "source": [
        "## Split JPGs into numbered tiles"
      ]
    },
    {
      "cell_type": "code",
      "metadata": {
        "id": "3lvd2Mi2pt9D",
        "colab_type": "code",
        "colab": {}
      },
      "source": [
        "import os\n",
        "import cv2\n",
        "import math\n",
        "\n",
        "tile_size = (2240, 2240)   ## (x,y)\n",
        "offset = (2240, 2240)      ## (x,y)\n",
        "# tile_size = (3360, 2240)\n",
        "# offset = (3360, 2240)    \n",
        "\n",
        "path = '/content/drive/My Drive/Colab Notebooks/ObjectRecognition/Mask_RCNN/skin data/copy fullsize original names'\n",
        "\n",
        "os.chdir(path)\n",
        "if not os.path.exists('tiled output'):\n",
        "    os.mkdir('tiled output')\n",
        "\n",
        "for filename in os.listdir(path):\n",
        "    if not filename.endswith('.JPG'): continue\n",
        "\n",
        "    img = cv2.imread(str(path)+'/'+str(filename))  ## 6720, 4480\n",
        "    img_shape = img.shape  ## 4480, 6720 (y,x)!\n",
        "\n",
        "    for i in range(int(math.ceil(img_shape[0] / (offset[1] * 1.0)))):\n",
        "        for j in range(int(math.ceil(img_shape[1] / (offset[0] * 1.0)))):\n",
        "            cropped_img = img[offset[1] * i : min(offset[1] * i+tile_size[1], img_shape[0]),  offset[0]*j : min(offset[0] * j+tile_size[0], img_shape[1])]\n",
        "            X_MIN = offset[0] * j\n",
        "            Y_MIN = offset[1] * i\n",
        "            X_MAX = min(offset[0] * j + tile_size[0], img_shape[1])\n",
        "            Y_MAX = min(offset[1] * i + tile_size[1], img_shape[0])\n",
        "            print('relative coordinates: (', '%4.f' % X_MIN, ', %4.f' % Y_MIN, ')   filename: '  + str(filename[:-4]) + '__' + str(i) + '_' + str(j) + '.JPG')\n",
        "            cv2.imwrite(str(path) + '/tiled output/' + str(filename[:-4]) + '__' + str(i) + '_' + str(j) + '.JPG', cropped_img)"
      ],
      "execution_count": 0,
      "outputs": []
    },
    {
      "cell_type": "markdown",
      "metadata": {
        "id": "LPaTx8uPo99t",
        "colab_type": "text"
      },
      "source": [
        "# Split Pascal VOC XML files into numbered tiles\n",
        "Appends object count in each class to the filename for easy sorting later"
      ]
    },
    {
      "cell_type": "code",
      "metadata": {
        "id": "QqP0bwvZTHpo",
        "colab_type": "code",
        "colab": {}
      },
      "source": [
        "import os\n",
        "import xml.etree.ElementTree as ET\n",
        "import math\n",
        "\n",
        "img_shape = (4480, 6720)    ## (y,x)!  ## if images are different sizes, parse xml root for 'height' and 'width'. \n",
        "# tile_size = (1680, 1494)  ## (x,y)   ## try: img_shape = (int(root[4][1].text), int(root[4][0].text))\n",
        "# offset = (1680, 1495)     ## (x,y)\n",
        "tile_size = (2240, 2240)    ## (x,y)\n",
        "offset = (2240, 2240)       ## (x,y)\n",
        "path = '/content/drive/My Drive/Colab Notebooks/ObjectRecognition/Mask_RCNN/skin data/copy fullsize original names'\n",
        "\n",
        "os.chdir(path)\n",
        "if not os.path.exists('tiled output'):\n",
        "    os.mkdir('tiled output')\n",
        "\n",
        "for filename in os.listdir(path):\n",
        "    if not filename.endswith('.xml'): continue\n",
        "    fullname = os.path.join(path, filename)\n",
        "\n",
        "    ## calculate tile boundaries\n",
        "    for i in range(int(math.ceil(img_shape[0] / (offset[1] * 1.0)))):\n",
        "        for j in range(int(math.ceil(img_shape[1] / (offset[0] * 1.0)))):\n",
        "            X_MIN = offset[0]*j\n",
        "            Y_MIN = offset[1]*i\n",
        "            X_MAX = min(offset[0]*j+tile_size[0], img_shape[1])\n",
        "            Y_MAX = min(offset[1]*i+tile_size[1], img_shape[0])\n",
        "            print('tile relative coordinates: (', '%4.f' % X_MIN, ', %4.f' % Y_MIN, ')   filename: ' + str(filename[:-4]) + \"_\" + str(i) + '_' + str(j) + '_...' )\n",
        "\n",
        "            ## reload parent file\n",
        "            tree = ET.parse(fullname)\n",
        "            root = tree.getroot()\n",
        "\n",
        "            ## remove objects outside boundary\n",
        "            for object in root.findall('object'):\n",
        "                bndbox = object.find('bndbox')\n",
        "                Xmin_ = bndbox.find('xmin')\n",
        "                Xmax_ = bndbox.find('xmax')\n",
        "                Ymin_ = bndbox.find('ymin')\n",
        "                Ymax_ = bndbox.find('ymax')\n",
        "                if int(Xmin_.text) < X_MIN or \\\n",
        "                int(Xmax_.text) > X_MAX or \\\n",
        "                int(Ymin_.text) < Y_MIN or \\\n",
        "                int(Ymax_.text) > Y_MAX: \n",
        "                    root.remove(object)\n",
        "\n",
        "            ## count remaining objects\n",
        "            count_fb = 0\n",
        "            for any in root.findall(\"./object/[name='follicular_bump']\"):\n",
        "                count_fb = count_fb + 1\n",
        "            \n",
        "            count_pe = 0\n",
        "            for any in root.findall(\"./object/[name='pre_erupted']\"):\n",
        "                count_pe = count_pe + 1\n",
        "\n",
        "            ## update linked JPG reference\n",
        "            _filename = root.find('filename')\n",
        "            newfn = str(_filename.text[:-4] + \"__\" + str(i) + \"_\" + str(j) + \".JPG\")\n",
        "            _filename.text = str(newfn)\n",
        "            \n",
        "            _path = root.find('path')\n",
        "            newpa = str(_path.text[:-4] + \"__\" + str(i) + \"_\" + str(j) + \".JPG\")\n",
        "            _path.text = str(newpa)\n",
        "\n",
        "            ## update width & height references\n",
        "            size = root.find('size')\n",
        "            _width = size.find('width')\n",
        "            _width.text = str(tile_size[0])\n",
        "            _height = size.find('height')\n",
        "            _height.text = str(tile_size[1])\n",
        "\n",
        "            ## subtract tile relative coordinates from each bounding box\n",
        "            for _xmin in root.iter('xmin'):\n",
        "                new_xmin = int(_xmin.text) - X_MIN\n",
        "                _xmin.text = str(new_xmin)\n",
        "                #xmin.set('updated', 'yes')\n",
        "\n",
        "            for _ymin in root.iter('ymin'):\n",
        "                new_ymin = int(_ymin.text) - Y_MIN\n",
        "                _ymin.text = str(new_ymin)\n",
        "                #xmin.set('updated', 'yes')\n",
        "\n",
        "            for _xmax in root.iter('xmax'):\n",
        "                new_xmax = int(_xmax.text) - X_MIN\n",
        "                _xmax.text = str(new_xmax)\n",
        "                #xmin.set('updated', 'yes')\n",
        "\n",
        "            for _ymax in root.iter('ymax'):\n",
        "                new_ymax = int(_ymax.text) - Y_MIN\n",
        "                _ymax.text = str(new_ymax)\n",
        "                #xmin.set('updated', 'yes')\n",
        "\n",
        "            ## save child files\n",
        "            tree.write(str(path)+\"/tiled output/\"+str(filename[:-4])+\"__\"+str(i)+\"_\"+str(j)+\"__\"+str(count_fb)+\"_\"+str(count_pe)+\".xml\")"
      ],
      "execution_count": 0,
      "outputs": []
    },
    {
      "cell_type": "markdown",
      "metadata": {
        "id": "vTGQ7h2O2ciz",
        "colab_type": "text"
      },
      "source": [
        "# Remove JPG / Pascal VOC XML tiles without objects\n",
        "Based on tags in the XML file name\n"
      ]
    },
    {
      "cell_type": "code",
      "metadata": {
        "id": "U4UyKL6VaPkz",
        "colab_type": "code",
        "colab": {}
      },
      "source": [
        "import os\n",
        "import shutil\n",
        "\n",
        "path = '/content/drive/My Drive/Colab Notebooks/ObjectRecognition/Mask_RCNN/skin data/copy fullsize original names'\n",
        "source = 'tiled output'\n",
        "\n",
        "os.chdir(path)\n",
        "if not os.path.exists('unlabelled output'):\n",
        "    os.mkdir('unlabelled output')\n",
        "\n",
        "for f in os.listdir(source):\n",
        "    if f.endswith('.xml'):\n",
        "        obj_tags = f[-7:-4]\n",
        "        img_name = str(f[:-9]+'.JPG')\n",
        "\n",
        "        if obj_tags == str('0_0'):\n",
        "            shutil.move(os.path.join(source, f), 'unlabelled output')\n",
        "            shutil.move(os.path.join(source, img_name), 'unlabelled output')"
      ],
      "execution_count": 0,
      "outputs": []
    },
    {
      "cell_type": "markdown",
      "metadata": {
        "id": "KnQwfSeQ2mZg",
        "colab_type": "text"
      },
      "source": [
        "# Mirror JPGs on YY axis"
      ]
    },
    {
      "cell_type": "code",
      "metadata": {
        "id": "vdgDLK2w9P7C",
        "colab_type": "code",
        "colab": {}
      },
      "source": [
        "import os\n",
        "import cv2\n",
        "\n",
        "path = '/content/drive/My Drive/Colab Notebooks/ObjectRecognition/Mask_RCNN/skin data/copy fullsize original names/tiled output'\n",
        "for filename in os.listdir(path):\n",
        "    if not filename.endswith('.JPG'): continue\n",
        "    \n",
        "    img = cv2.imread(path+'/'+filename)\n",
        "    img_flip_lr = cv2.flip(img, 1)\n",
        "    cv2.imwrite(path +'/YY_'+str(filename), img_flip_lr)"
      ],
      "execution_count": 0,
      "outputs": []
    },
    {
      "cell_type": "markdown",
      "metadata": {
        "id": "osvDIo7LJhWj",
        "colab_type": "text"
      },
      "source": [
        "# Mirror JPGs on XX axis"
      ]
    },
    {
      "cell_type": "code",
      "metadata": {
        "id": "aVWwha6TJJ5V",
        "colab_type": "code",
        "colab": {}
      },
      "source": [
        "import os\n",
        "import cv2\n",
        "\n",
        "path = '/content/drive/My Drive/Colab Notebooks/ObjectRecognition/Mask_RCNN/skin data/copy fullsize original names/tiled output'\n",
        "\n",
        "for filename in os.listdir(path):\n",
        "    if not filename.endswith('.JPG'): continue\n",
        "    \n",
        "    img = cv2.imread(path +'/'+ filename)\n",
        "    img_flip_ud = cv2.flip(img, 0)\n",
        "    cv2.imwrite(path +'/XX_'+str(filename), img_flip_ud)"
      ],
      "execution_count": 0,
      "outputs": []
    },
    {
      "cell_type": "markdown",
      "metadata": {
        "id": "p7Xnzqwi3s4y",
        "colab_type": "text"
      },
      "source": [
        "# Mirror Pascal VOC XML files on YY axis"
      ]
    },
    {
      "cell_type": "code",
      "metadata": {
        "id": "jXqQ3hgTg05w",
        "colab_type": "code",
        "colab": {}
      },
      "source": [
        "import os\n",
        "import xml.etree.ElementTree as ET\n",
        "\n",
        "path = '/content/drive/My Drive/Colab Notebooks/ObjectRecognition/Mask_RCNN/skin data/copy fullsize original names/tiled output'\n",
        "for filename in os.listdir(path):\n",
        "    if not filename.endswith('.xml'): continue\n",
        "    fullname = os.path.join(path, filename)\n",
        "    tree = ET.parse(fullname)\n",
        "    root = tree.getroot()\n",
        "\n",
        "    filename_ = root.find('filename')\n",
        "    newfn = 'YY_'+str(filename_.text)\n",
        "    filename_.text = str(newfn)\n",
        "    print(str(newfn))\n",
        "\n",
        "    path_ = root.find('path')\n",
        "    newpath = path_.text[:74] +str(newfn)+'.xml'\n",
        "    path_.text = str(newpath)\n",
        "    print(str(newpath))\n",
        "\n",
        "    imagewidth = int(root[4][0].text)\n",
        "    print('width:',imagewidth)\n",
        "\n",
        "    for object in root.findall('object'):\n",
        "        bndbox = object.find('bndbox')\n",
        "        Xmin_ = bndbox.find('xmin')\n",
        "        Xmax_ = bndbox.find('xmax')\n",
        "        Xmin_1 = imagewidth-int(Xmax_.text)\n",
        "        Xmax_1 = imagewidth-int(Xmin_.text)\n",
        "        print(Xmin_.text, Xmax_.text,' >>> ', Xmin_1, Xmax_1)\n",
        "        Xmin_.text = str(Xmin_1)\n",
        "        Xmax_.text = str(Xmax_1)\n",
        "\n",
        "    tree.write(path+'/YY_'+str(filename))"
      ],
      "execution_count": 0,
      "outputs": []
    },
    {
      "cell_type": "markdown",
      "metadata": {
        "id": "0bEbHrj84u-B",
        "colab_type": "text"
      },
      "source": [
        "# Mirror Pascal VOC XML files on XX axis"
      ]
    },
    {
      "cell_type": "code",
      "metadata": {
        "id": "UDDvev_Y76Ef",
        "colab_type": "code",
        "colab": {}
      },
      "source": [
        "import os\n",
        "import xml.etree.ElementTree as ET\n",
        "\n",
        "path = '/content/drive/My Drive/Colab Notebooks/ObjectRecognition/Mask_RCNN/skin data/copy fullsize original names/tiled output'\n",
        "for filename in os.listdir(path):\n",
        "    if not filename.endswith('.xml'): continue\n",
        "    fullname = os.path.join(path, filename)\n",
        "    tree = ET.parse(fullname)\n",
        "    root = tree.getroot()\n",
        "\n",
        "    filename_ = root.find('filename')\n",
        "    newfn = 'XX_'+str(filename_.text)\n",
        "    filename_.text = str(newfn)\n",
        "    print(str(newfn))\n",
        "\n",
        "    path_ = root.find('path')\n",
        "    newpath = path_.text[:-12] +str(newfn)+'.xml'\n",
        "    path_.text = str(newpath)\n",
        "    print(str(newpath))\n",
        "\n",
        "    imageheight = int(root[4][1].text)\n",
        "    print('height:',imageheight)\n",
        "\n",
        "    for object in root.findall('object'):\n",
        "        bndbox = object.find('bndbox')\n",
        "        Ymin_ = bndbox.find('ymin')\n",
        "        Ymax_ = bndbox.find('ymax')\n",
        "        Ymin_1 = imageheight-int(Ymax_.text)\n",
        "        Ymax_1 = imageheight-int(Ymin_.text)\n",
        "        print(Ymin_.text, Ymax_.text,' >>> ', Ymin_1, Ymax_1)\n",
        "        Ymin_.text = str(Ymin_1)\n",
        "        Ymax_.text = str(Ymax_1)\n",
        "\n",
        "    tree.write(path+'/XX_'+str(filename))"
      ],
      "execution_count": 0,
      "outputs": []
    },
    {
      "cell_type": "markdown",
      "metadata": {
        "id": "G6xLf_UnDO3Z",
        "colab_type": "text"
      },
      "source": [
        "# Rotate JPGs clockwise"
      ]
    },
    {
      "cell_type": "code",
      "metadata": {
        "id": "7Y-PrqVQzOwE",
        "colab_type": "code",
        "colab": {}
      },
      "source": [
        "from PIL import Image\n",
        "import os\n",
        "\n",
        "angle = 10  ## must be positive ##\n",
        "path = '/content/drive/My Drive/Colab Notebooks/ObjectRecognition/Mask_RCNN/skin data/copy fullsize original names/tiled output'\n",
        "\n",
        "os.chdir(path)\n",
        "if not os.path.exists('rotated'):\n",
        "    os.mkdir('rotated')\n",
        "\n",
        "for filename in os.listdir(path):\n",
        "    if not filename.endswith('.JPG'): continue\n",
        "    fullname = os.path.join(path, filename)\n",
        "    image = Image.open(fullname)\n",
        "    output = image.rotate(-angle, resample=3, expand=True)\n",
        "    # display(output)\n",
        "    print(image.size, '>>>', output.size)\n",
        "    output.save(path+'/rotated/CW'+str(angle)+'__'+str(filename))"
      ],
      "execution_count": 0,
      "outputs": []
    },
    {
      "cell_type": "markdown",
      "metadata": {
        "id": "jEm5hhlJ9JuG",
        "colab_type": "text"
      },
      "source": [
        "# Rotate Pascal VOC XML files clockwise"
      ]
    },
    {
      "cell_type": "code",
      "metadata": {
        "id": "KGW0R7VT8Ueb",
        "colab_type": "code",
        "colab": {}
      },
      "source": [
        "import os\n",
        "import xml.etree.ElementTree as ET\n",
        "import math\n",
        "\n",
        "angle = 10               ## must be positive\n",
        "expanded_photo = True    ## must be True, until out-of-bounds objects are removed ##\n",
        "circular_objects = True\n",
        "path = '/content/drive/My Drive/Colab Notebooks/ObjectRecognition/Mask_RCNN/skin data/copy fullsize original names/tiled output'\n",
        "\n",
        "os.chdir(path)\n",
        "if not os.path.exists('rotated'):\n",
        "    os.mkdir('rotated')\n",
        "\n",
        "for filename in os.listdir(path):\n",
        "    if not filename.endswith('.xml'): continue\n",
        "    fullname = os.path.join(path, filename)\n",
        "    tree = ET.parse(fullname)\n",
        "    root = tree.getroot()\n",
        "\n",
        "    ## update filename reference\n",
        "    filename_ = root.find('filename')\n",
        "    newfn = 'CW'+str(angle)+'__'+str(filename_.text)\n",
        "    filename_.text = str(newfn)\n",
        "    print(str(newfn))\n",
        "\n",
        "    ## calculate centre of rotation\n",
        "    imagewidth = int(root[4][0].text)\n",
        "    imageheight = int(root[4][1].text)\n",
        "    rotation_centre = imagewidth/2, imageheight/2\n",
        "    theta = angle * 3.14159 / 180\n",
        "    \n",
        "    ## calculate size of expanded images\n",
        "    if expanded_photo == True:\n",
        "        expanded_image_dims = math.ceil(math.cos(theta) * imagewidth + math.sin(theta) * imageheight), \\\n",
        "                              math.ceil(math.sin(theta) * imagewidth + math.cos(theta) * imageheight)\n",
        "        \n",
        "        ## expand bounding box to avoid clipping rotated objects\n",
        "        if circular_objects == True:\n",
        "            expansion_factor = 1\n",
        "        else:\n",
        "            expansion_factor = math.ceil(expanded_image_dims[0] / imagewidth)\n",
        "        \n",
        "        ## update width & height references\n",
        "        size = root.find('size')\n",
        "        _width = size.find('width')\n",
        "        _width.text = str(expanded_image_dims[0])\n",
        "        _height = size.find('height')\n",
        "        _height.text = str(expanded_image_dims[1])\n",
        "        \n",
        "        ## calculate remapping vector\n",
        "        remap_vector = math.ceil(expanded_image_dims[0]/2 - imagewidth/2), \\\n",
        "                       math.ceil(expanded_image_dims[1]/2 - imageheight/2)\n",
        "\n",
        "    else:\n",
        "        remap_vector = (0, 0)\n",
        "        expansion_factor = 1\n",
        "    \n",
        "    ## get box coordinates for each object \n",
        "    for object in root.findall('object'):\n",
        "        bndbox = object.find('bndbox')\n",
        "        Xmin_ = bndbox.find('xmin')\n",
        "        Xmin = int(Xmin_.text)\n",
        "        Ymin_ = bndbox.find('ymin')\n",
        "        Ymin = int(Ymin_.text)\n",
        "        Xmax_ = bndbox.find('xmax')\n",
        "        Xmax = int(Xmax_.text)\n",
        "        Ymax_ = bndbox.find('ymax')\n",
        "        Ymax = int(Ymax_.text)\n",
        "\n",
        "        ## calculate centre of object\n",
        "        obj_centre = (Xmax/2 + Xmin/2), (Ymax/2 + Ymin/2)\n",
        "        ox, oy = rotation_centre[0], rotation_centre[1]\n",
        "\n",
        "        ## apply rotation and remap to expanded image\n",
        "        Xobjcentr1 = math.cos(theta) * (obj_centre[0]-ox) - math.sin(theta) * (obj_centre[1]-oy) + ox + remap_vector[0]\n",
        "        Yobjcentr1 = math.sin(theta) * (obj_centre[0]-ox) + math.cos(theta) * (obj_centre[1]-oy) + oy + remap_vector[1]\n",
        "        \n",
        "        ## rebuild bounding box\n",
        "        Xwidth = Xmax - Xmin\n",
        "        Ywidth = Ymax - Ymin\n",
        "        Xmin1 = math.ceil(Xobjcentr1 - Xwidth/2 * expansion_factor)  \n",
        "        Ymin1 = math.ceil(Yobjcentr1 - Ywidth/2 * expansion_factor)      \n",
        "        Xmax1 = math.ceil(Xobjcentr1 + Xwidth/2 * expansion_factor)\n",
        "        Ymax1 = math.ceil(Yobjcentr1 + Ywidth/2 * expansion_factor)\n",
        "\n",
        "        ## overwrite bounding box\n",
        "        Xmin_.text = str(Xmin1)\n",
        "        Ymin_.text = str(Ymin1)\n",
        "        Xmax_.text = str(Xmax1)\n",
        "        Ymax_.text = str(Ymax1)\n",
        "\n",
        "    ## remove out-of-bounds objects\n",
        "    ... # see 'remove objects outside boundary' loop in code block [2]\n",
        "\n",
        "    ## save child file\n",
        "    tree.write(path+'/rotated/CW'+str(angle)+'__'+str(filename))"
      ],
      "execution_count": 0,
      "outputs": []
    },
    {
      "cell_type": "markdown",
      "metadata": {
        "id": "cix-0D3kxQQ_",
        "colab_type": "text"
      },
      "source": [
        "# Mirror rotated JPGs on XX axis"
      ]
    },
    {
      "cell_type": "code",
      "metadata": {
        "colab_type": "code",
        "id": "CIswRBAGxDMF",
        "colab": {}
      },
      "source": [
        "import os\n",
        "import cv2\n",
        "\n",
        "path = '/content/drive/My Drive/Colab Notebooks/ObjectRecognition/Mask_RCNN/skin data/copy fullsize original names/tiled output/rotated'\n",
        "\n",
        "for filename in os.listdir(path):\n",
        "    if not filename.endswith('.JPG'): continue\n",
        "    \n",
        "    img = cv2.imread(path +'/'+ filename)\n",
        "    img_flip_ud = cv2.flip(img, 0)\n",
        "    cv2.imwrite(path +'/zXX_'+str(filename), img_flip_ud)"
      ],
      "execution_count": 0,
      "outputs": []
    },
    {
      "cell_type": "markdown",
      "metadata": {
        "id": "_zTrB2oIyznT",
        "colab_type": "text"
      },
      "source": [
        "# Mirror rotated Pascal VOC XML on XX axis"
      ]
    },
    {
      "cell_type": "code",
      "metadata": {
        "colab_type": "code",
        "id": "HQVJNqaWxxUa",
        "colab": {}
      },
      "source": [
        "import os\n",
        "import xml.etree.ElementTree as ET\n",
        "\n",
        "path = '/content/drive/My Drive/Colab Notebooks/ObjectRecognition/Mask_RCNN/skin data/copy fullsize original names/tiled output/rotated'\n",
        "for filename in os.listdir(path):\n",
        "    if not filename.endswith('.xml'): continue\n",
        "    fullname = os.path.join(path, filename)\n",
        "    tree = ET.parse(fullname)\n",
        "    root = tree.getroot()\n",
        "\n",
        "    filename_ = root.find('filename')\n",
        "    newfn = 'zXX_'+str(filename_.text)\n",
        "    filename_.text = str(newfn)\n",
        "    print(str(newfn))\n",
        "\n",
        "    path_ = root.find('path')\n",
        "    newpath = path_.text[:-12] +str(newfn)+'.xml'\n",
        "    path_.text = str(newpath)\n",
        "    # print(str(newpath))\n",
        "\n",
        "    imageheight = int(root[4][1].text)\n",
        "    print('height:',imageheight)\n",
        "\n",
        "    for object in root.findall('object'):\n",
        "        bndbox = object.find('bndbox')\n",
        "        Ymin_ = bndbox.find('ymin')\n",
        "        Ymax_ = bndbox.find('ymax')\n",
        "        Ymin_1 = imageheight-int(Ymax_.text)\n",
        "        Ymax_1 = imageheight-int(Ymin_.text)\n",
        "        print(Ymin_.text, Ymax_.text,' >>> ', Ymin_1, Ymax_1)\n",
        "        Ymin_.text = str(Ymin_1)\n",
        "        Ymax_.text = str(Ymax_1)\n",
        "\n",
        "    tree.write(path+'/zXX_'+str(filename))"
      ],
      "execution_count": 0,
      "outputs": []
    }
  ]
}